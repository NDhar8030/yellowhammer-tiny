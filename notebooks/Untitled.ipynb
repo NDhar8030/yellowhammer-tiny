{
 "cells": [
  {
   "cell_type": "code",
   "execution_count": 1,
   "id": "8c442a97-a911-43ec-a1a0-c6a19d21f266",
   "metadata": {},
   "outputs": [],
   "source": [
    "import tensorflow as tf"
   ]
  },
  {
   "cell_type": "code",
   "execution_count": null,
   "id": "eb339997-3087-45db-9c32-0ecb5bfb87aa",
   "metadata": {},
   "outputs": [],
   "source": []
  }
 ],
 "metadata": {
  "kernelspec": {
   "display_name": "yellowhammer-tiny",
   "language": "python",
   "name": "yellowhammer-tiny"
  },
  "language_info": {
   "codemirror_mode": {
    "name": "ipython",
    "version": 3
   },
   "file_extension": ".py",
   "mimetype": "text/x-python",
   "name": "python",
   "nbconvert_exporter": "python",
   "pygments_lexer": "ipython3",
   "version": "3.10.18"
  }
 },
 "nbformat": 4,
 "nbformat_minor": 5
}
